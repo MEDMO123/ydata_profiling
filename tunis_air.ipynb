{
 "cells": [
  {
   "cell_type": "code",
   "execution_count": 1,
   "metadata": {},
   "outputs": [],
   "source": [
    "import pandas as pd"
   ]
  },
  {
   "cell_type": "code",
   "execution_count": 2,
   "metadata": {},
   "outputs": [],
   "source": [
    "from ydata_profiling import ProfileReport"
   ]
  },
  {
   "cell_type": "code",
   "execution_count": 3,
   "metadata": {},
   "outputs": [],
   "source": [
    "df=pd.read_csv('Tunisair_flights_dataset.csv')"
   ]
  },
  {
   "cell_type": "code",
   "execution_count": 4,
   "metadata": {},
   "outputs": [
    {
     "data": {
      "text/html": [
       "<div>\n",
       "<style scoped>\n",
       "    .dataframe tbody tr th:only-of-type {\n",
       "        vertical-align: middle;\n",
       "    }\n",
       "\n",
       "    .dataframe tbody tr th {\n",
       "        vertical-align: top;\n",
       "    }\n",
       "\n",
       "    .dataframe thead th {\n",
       "        text-align: right;\n",
       "    }\n",
       "</style>\n",
       "<table border=\"1\" class=\"dataframe\">\n",
       "  <thead>\n",
       "    <tr style=\"text-align: right;\">\n",
       "      <th></th>\n",
       "      <th>Filght_date</th>\n",
       "      <th>Flight_ID</th>\n",
       "      <th>Departure point</th>\n",
       "      <th>Arrival point</th>\n",
       "      <th>Scheduled_departure_time</th>\n",
       "      <th>Scheduled_arrival_time</th>\n",
       "      <th>STATUS</th>\n",
       "      <th>Aircraft_code</th>\n",
       "      <th>Arrival delay</th>\n",
       "    </tr>\n",
       "  </thead>\n",
       "  <tbody>\n",
       "    <tr>\n",
       "      <th>0</th>\n",
       "      <td>2016-01-03</td>\n",
       "      <td>TU 0712</td>\n",
       "      <td>CMN</td>\n",
       "      <td>TUN</td>\n",
       "      <td>2016-01-03 10:30:00</td>\n",
       "      <td>2016-01-03 12.55.00</td>\n",
       "      <td>ATA</td>\n",
       "      <td>TU 32AIMN</td>\n",
       "      <td>260.0</td>\n",
       "    </tr>\n",
       "    <tr>\n",
       "      <th>1</th>\n",
       "      <td>2016-01-13</td>\n",
       "      <td>TU 0757</td>\n",
       "      <td>MXP</td>\n",
       "      <td>TUN</td>\n",
       "      <td>2016-01-13 15:05:00</td>\n",
       "      <td>2016-01-13 16.55.00</td>\n",
       "      <td>ATA</td>\n",
       "      <td>TU 31BIMO</td>\n",
       "      <td>20.0</td>\n",
       "    </tr>\n",
       "    <tr>\n",
       "      <th>2</th>\n",
       "      <td>2016-01-16</td>\n",
       "      <td>TU 0214</td>\n",
       "      <td>TUN</td>\n",
       "      <td>IST</td>\n",
       "      <td>2016-01-16 04:10:00</td>\n",
       "      <td>2016-01-16 06.45.00</td>\n",
       "      <td>ATA</td>\n",
       "      <td>TU 32AIMN</td>\n",
       "      <td>0.0</td>\n",
       "    </tr>\n",
       "    <tr>\n",
       "      <th>3</th>\n",
       "      <td>2016-01-17</td>\n",
       "      <td>TU 0480</td>\n",
       "      <td>DJE</td>\n",
       "      <td>NTE</td>\n",
       "      <td>2016-01-17 14:10:00</td>\n",
       "      <td>2016-01-17 17.00.00</td>\n",
       "      <td>ATA</td>\n",
       "      <td>TU 736IOK</td>\n",
       "      <td>0.0</td>\n",
       "    </tr>\n",
       "    <tr>\n",
       "      <th>4</th>\n",
       "      <td>2016-01-17</td>\n",
       "      <td>TU 0338</td>\n",
       "      <td>TUN</td>\n",
       "      <td>ALG</td>\n",
       "      <td>2016-01-17 14:30:00</td>\n",
       "      <td>2016-01-17 15.50.00</td>\n",
       "      <td>ATA</td>\n",
       "      <td>TU 320IMU</td>\n",
       "      <td>22.0</td>\n",
       "    </tr>\n",
       "    <tr>\n",
       "      <th>5</th>\n",
       "      <td>2016-01-17</td>\n",
       "      <td>TU 0283</td>\n",
       "      <td>TLS</td>\n",
       "      <td>TUN</td>\n",
       "      <td>2016-01-17 16:20:00</td>\n",
       "      <td>2016-01-17 18.15.00</td>\n",
       "      <td>ATA</td>\n",
       "      <td>TU 736IOP</td>\n",
       "      <td>53.0</td>\n",
       "    </tr>\n",
       "    <tr>\n",
       "      <th>6</th>\n",
       "      <td>2016-01-18</td>\n",
       "      <td>TU 0514</td>\n",
       "      <td>TUN</td>\n",
       "      <td>BCN</td>\n",
       "      <td>2016-01-18 07:15:00</td>\n",
       "      <td>2016-01-18 09.00.00</td>\n",
       "      <td>ATA</td>\n",
       "      <td>TU 32AIMH</td>\n",
       "      <td>10.0</td>\n",
       "    </tr>\n",
       "    <tr>\n",
       "      <th>7</th>\n",
       "      <td>2016-01-18</td>\n",
       "      <td>TU 0716</td>\n",
       "      <td>TUN</td>\n",
       "      <td>ORY</td>\n",
       "      <td>2016-01-18 07:35:00</td>\n",
       "      <td>2016-01-18 09.55.00</td>\n",
       "      <td>ATA</td>\n",
       "      <td>TU 32AIMI</td>\n",
       "      <td>15.0</td>\n",
       "    </tr>\n",
       "    <tr>\n",
       "      <th>8</th>\n",
       "      <td>2016-01-18</td>\n",
       "      <td>TU 0752</td>\n",
       "      <td>TUN</td>\n",
       "      <td>FCO</td>\n",
       "      <td>2016-01-18 07:40:00</td>\n",
       "      <td>2016-01-18 09.00.00</td>\n",
       "      <td>ATA</td>\n",
       "      <td>TU 32AIMC</td>\n",
       "      <td>16.0</td>\n",
       "    </tr>\n",
       "    <tr>\n",
       "      <th>9</th>\n",
       "      <td>2016-01-18</td>\n",
       "      <td>TU 0996</td>\n",
       "      <td>TUN</td>\n",
       "      <td>NCE</td>\n",
       "      <td>2016-01-18 07:45:00</td>\n",
       "      <td>2016-01-18 09.15.00</td>\n",
       "      <td>ATA</td>\n",
       "      <td>TU 31AIMK</td>\n",
       "      <td>21.0</td>\n",
       "    </tr>\n",
       "  </tbody>\n",
       "</table>\n",
       "</div>"
      ],
      "text/plain": [
       "  Filght_date Flight_ID Departure point Arrival point  \\\n",
       "0  2016-01-03  TU 0712              CMN           TUN   \n",
       "1  2016-01-13  TU 0757              MXP           TUN   \n",
       "2  2016-01-16  TU 0214              TUN           IST   \n",
       "3  2016-01-17  TU 0480              DJE           NTE   \n",
       "4  2016-01-17  TU 0338              TUN           ALG   \n",
       "5  2016-01-17  TU 0283              TLS           TUN   \n",
       "6  2016-01-18  TU 0514              TUN           BCN   \n",
       "7  2016-01-18  TU 0716              TUN           ORY   \n",
       "8  2016-01-18  TU 0752              TUN           FCO   \n",
       "9  2016-01-18  TU 0996              TUN           NCE   \n",
       "\n",
       "  Scheduled_departure_time Scheduled_arrival_time STATUS Aircraft_code  \\\n",
       "0      2016-01-03 10:30:00    2016-01-03 12.55.00    ATA     TU 32AIMN   \n",
       "1      2016-01-13 15:05:00    2016-01-13 16.55.00    ATA     TU 31BIMO   \n",
       "2      2016-01-16 04:10:00    2016-01-16 06.45.00    ATA     TU 32AIMN   \n",
       "3      2016-01-17 14:10:00    2016-01-17 17.00.00    ATA     TU 736IOK   \n",
       "4      2016-01-17 14:30:00    2016-01-17 15.50.00    ATA     TU 320IMU   \n",
       "5      2016-01-17 16:20:00    2016-01-17 18.15.00    ATA     TU 736IOP   \n",
       "6      2016-01-18 07:15:00    2016-01-18 09.00.00    ATA     TU 32AIMH   \n",
       "7      2016-01-18 07:35:00    2016-01-18 09.55.00    ATA     TU 32AIMI   \n",
       "8      2016-01-18 07:40:00    2016-01-18 09.00.00    ATA     TU 32AIMC   \n",
       "9      2016-01-18 07:45:00    2016-01-18 09.15.00    ATA     TU 31AIMK   \n",
       "\n",
       "   Arrival delay  \n",
       "0          260.0  \n",
       "1           20.0  \n",
       "2            0.0  \n",
       "3            0.0  \n",
       "4           22.0  \n",
       "5           53.0  \n",
       "6           10.0  \n",
       "7           15.0  \n",
       "8           16.0  \n",
       "9           21.0  "
      ]
     },
     "execution_count": 4,
     "metadata": {},
     "output_type": "execute_result"
    }
   ],
   "source": [
    "df.head(10)"
   ]
  },
  {
   "cell_type": "code",
   "execution_count": 5,
   "metadata": {},
   "outputs": [
    {
     "name": "stdout",
     "output_type": "stream",
     "text": [
      "<class 'pandas.core.frame.DataFrame'>\n",
      "RangeIndex: 107833 entries, 0 to 107832\n",
      "Data columns (total 9 columns):\n",
      " #   Column                    Non-Null Count   Dtype  \n",
      "---  ------                    --------------   -----  \n",
      " 0   Filght_date               107833 non-null  object \n",
      " 1   Flight_ID                 107833 non-null  object \n",
      " 2   Departure point           107833 non-null  object \n",
      " 3   Arrival point             107833 non-null  object \n",
      " 4   Scheduled_departure_time  107833 non-null  object \n",
      " 5   Scheduled_arrival_time    107833 non-null  object \n",
      " 6   STATUS                    107833 non-null  object \n",
      " 7   Aircraft_code             107833 non-null  object \n",
      " 8   Arrival delay             107833 non-null  float64\n",
      "dtypes: float64(1), object(8)\n",
      "memory usage: 7.4+ MB\n"
     ]
    }
   ],
   "source": [
    "df.info()"
   ]
  },
  {
   "cell_type": "code",
   "execution_count": 6,
   "metadata": {},
   "outputs": [
    {
     "data": {
      "text/html": [
       "<div>\n",
       "<style scoped>\n",
       "    .dataframe tbody tr th:only-of-type {\n",
       "        vertical-align: middle;\n",
       "    }\n",
       "\n",
       "    .dataframe tbody tr th {\n",
       "        vertical-align: top;\n",
       "    }\n",
       "\n",
       "    .dataframe thead th {\n",
       "        text-align: right;\n",
       "    }\n",
       "</style>\n",
       "<table border=\"1\" class=\"dataframe\">\n",
       "  <thead>\n",
       "    <tr style=\"text-align: right;\">\n",
       "      <th></th>\n",
       "      <th>Arrival delay</th>\n",
       "    </tr>\n",
       "  </thead>\n",
       "  <tbody>\n",
       "    <tr>\n",
       "      <th>count</th>\n",
       "      <td>107833.000000</td>\n",
       "    </tr>\n",
       "    <tr>\n",
       "      <th>mean</th>\n",
       "      <td>48.733013</td>\n",
       "    </tr>\n",
       "    <tr>\n",
       "      <th>std</th>\n",
       "      <td>117.135562</td>\n",
       "    </tr>\n",
       "    <tr>\n",
       "      <th>min</th>\n",
       "      <td>0.000000</td>\n",
       "    </tr>\n",
       "    <tr>\n",
       "      <th>25%</th>\n",
       "      <td>0.000000</td>\n",
       "    </tr>\n",
       "    <tr>\n",
       "      <th>50%</th>\n",
       "      <td>14.000000</td>\n",
       "    </tr>\n",
       "    <tr>\n",
       "      <th>75%</th>\n",
       "      <td>43.000000</td>\n",
       "    </tr>\n",
       "    <tr>\n",
       "      <th>max</th>\n",
       "      <td>3451.000000</td>\n",
       "    </tr>\n",
       "  </tbody>\n",
       "</table>\n",
       "</div>"
      ],
      "text/plain": [
       "       Arrival delay\n",
       "count  107833.000000\n",
       "mean       48.733013\n",
       "std       117.135562\n",
       "min         0.000000\n",
       "25%         0.000000\n",
       "50%        14.000000\n",
       "75%        43.000000\n",
       "max      3451.000000"
      ]
     },
     "execution_count": 6,
     "metadata": {},
     "output_type": "execute_result"
    }
   ],
   "source": [
    "df.describe()"
   ]
  },
  {
   "cell_type": "code",
   "execution_count": 8,
   "metadata": {},
   "outputs": [
    {
     "data": {
      "text/plain": [
       "Filght_date                 0\n",
       "Flight_ID                   0\n",
       "Departure point             0\n",
       "Arrival point               0\n",
       "Scheduled_departure_time    0\n",
       "Scheduled_arrival_time      0\n",
       "STATUS                      0\n",
       "Aircraft_code               0\n",
       "Arrival delay               0\n",
       "dtype: int64"
      ]
     },
     "execution_count": 8,
     "metadata": {},
     "output_type": "execute_result"
    }
   ],
   "source": [
    "df.isna().sum()"
   ]
  },
  {
   "cell_type": "code",
   "execution_count": 10,
   "metadata": {},
   "outputs": [
    {
     "name": "stdout",
     "output_type": "stream",
     "text": [
      "Filght_date                     0\n",
      "Flight_ID                       0\n",
      "Departure point                 0\n",
      "Arrival point                   0\n",
      "Scheduled_departure_time        0\n",
      "Scheduled_arrival_time          0\n",
      "STATUS                          0\n",
      "Aircraft_code                   0\n",
      "Arrival delay               38168\n",
      "dtype: int64\n"
     ]
    }
   ],
   "source": [
    "zero_count=(df==0).sum()\n",
    "print(zero_count)"
   ]
  },
  {
   "cell_type": "code",
   "execution_count": 9,
   "metadata": {},
   "outputs": [
    {
     "data": {
      "application/vnd.jupyter.widget-view+json": {
       "model_id": "efa9cf6ace9c43158c447cb61f35a2fd",
       "version_major": 2,
       "version_minor": 0
      },
      "text/plain": [
       "Summarize dataset:   0%|          | 0/5 [00:00<?, ?it/s]"
      ]
     },
     "metadata": {},
     "output_type": "display_data"
    },
    {
     "data": {
      "application/vnd.jupyter.widget-view+json": {
       "model_id": "4ac4f840af1749308ab923960dac116b",
       "version_major": 2,
       "version_minor": 0
      },
      "text/plain": [
       "Generate report structure:   0%|          | 0/1 [00:00<?, ?it/s]"
      ]
     },
     "metadata": {},
     "output_type": "display_data"
    },
    {
     "data": {
      "application/vnd.jupyter.widget-view+json": {
       "model_id": "19d5e32367c245f8a2a9ec365d499e8b",
       "version_major": 2,
       "version_minor": 0
      },
      "text/plain": [
       "Render HTML:   0%|          | 0/1 [00:00<?, ?it/s]"
      ]
     },
     "metadata": {},
     "output_type": "display_data"
    },
    {
     "name": "stderr",
     "output_type": "stream",
     "text": [
      "c:\\Users\\nabyp\\OneDrive\\Bureau\\Analyse de données\\PYTHON DATA\\sklearn-env\\Lib\\site-packages\\ydata_profiling\\profile_report.py:379: UserWarning: Extension  not supported. For now we assume .html was intended. To remove this warning, please use .html or .json.\n",
      "  warnings.warn(\n"
     ]
    },
    {
     "data": {
      "application/vnd.jupyter.widget-view+json": {
       "model_id": "dfb15d0ae2914a3d84c26caf3cb04c04",
       "version_major": 2,
       "version_minor": 0
      },
      "text/plain": [
       "Export report to file:   0%|          | 0/1 [00:00<?, ?it/s]"
      ]
     },
     "metadata": {},
     "output_type": "display_data"
    }
   ],
   "source": [
    "profil=ProfileReport(df,title='Rapport Tunis_air')\n",
    "profil.to_file('Rapport Tunis_air')"
   ]
  },
  {
   "cell_type": "markdown",
   "metadata": {},
   "source": [
    "#   Observations"
   ]
  },
  {
   "cell_type": "markdown",
   "metadata": {},
   "source": [
    "En ce basant sur le rapport nous pouvons constater que notre dataset contient 107833 enregistrements(lignes) et compte 9 variables (colonnes).On remarque plusieurs types de données :\n",
    "\n",
    "2 variables de type DateTime\n",
    "\n",
    "5 variables de type Texte  \n",
    "\n",
    "1 variable Categorique \n",
    "\n",
    "1 variable numerique \n",
    "\n",
    "Aussi on se rend compte que notre dataset  occupe en memoire 7.4Mo , soit 72.0B par enregistrement."
   ]
  },
  {
   "cell_type": "markdown",
   "metadata": {},
   "source": [
    "On remarque cependant que notre dataset est propre c'est à dire qu'il n'y a pas de lignes en doubles encore moins de données manquantes."
   ]
  },
  {
   "cell_type": "markdown",
   "metadata": {},
   "source": [
    "Dans la colonne 'Arrival_delay' on remarque que le maximum 3451 est superieur au 95ieme percentile ce qui fait penser à une valeur aberrante\n",
    "\n",
    "Un pourcentage élevé de zéros dans Arrival_delay suggère que cette variable pourrait avoir de nombreuses valeurs manquantes représentées par zéro. Il est crucial de déterminer comment gérer ces valeurs."
   ]
  },
  {
   "cell_type": "markdown",
   "metadata": {},
   "source": [
    "La matrice de correlation  montre la relation entre les deux variables \"Retard à l'arrivée\" et \"STATUT\".\n",
    "\n",
    "La corrélation entre \"Retard à l'arrivée\" et lui-même est de 1, ce qui est attendu puisque toute variable est parfaitement corrélée à elle-même.\n",
    "\n",
    "La corrélation entre \"Retard à l'arrivée\" et \"STATUT\" est de 0,03, indiquant une très faible relation positive entre ces deux variables.\n",
    "\n",
    "De même, la corrélation entre \"STATUT\" et lui-même est de 1, et la corrélation entre \"STATUT\" et \"Retard à l'arrivée\" est également de 0,03.\n",
    "\n",
    "En d'autres termes, les variables \"Retard à l'arrivée\" et \"STATUT\" sont presque indépendantes l'une de l'autre."
   ]
  }
 ],
 "metadata": {
  "kernelspec": {
   "display_name": "sklearn-env",
   "language": "python",
   "name": "python3"
  },
  "language_info": {
   "codemirror_mode": {
    "name": "ipython",
    "version": 3
   },
   "file_extension": ".py",
   "mimetype": "text/x-python",
   "name": "python",
   "nbconvert_exporter": "python",
   "pygments_lexer": "ipython3",
   "version": "3.12.8"
  }
 },
 "nbformat": 4,
 "nbformat_minor": 2
}
