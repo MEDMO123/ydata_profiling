{
 "cells": [
  {
   "cell_type": "code",
   "execution_count": 3,
   "metadata": {},
   "outputs": [],
   "source": [
    "import pandas as pd"
   ]
  },
  {
   "cell_type": "code",
   "execution_count": 4,
   "metadata": {},
   "outputs": [],
   "source": [
    "from ydata_profiling import ProfileReport"
   ]
  },
  {
   "cell_type": "code",
   "execution_count": 5,
   "metadata": {},
   "outputs": [],
   "source": [
    "df=pd.read_csv('diabetes.csv')"
   ]
  },
  {
   "cell_type": "code",
   "execution_count": 6,
   "metadata": {},
   "outputs": [
    {
     "data": {
      "text/html": [
       "<div>\n",
       "<style scoped>\n",
       "    .dataframe tbody tr th:only-of-type {\n",
       "        vertical-align: middle;\n",
       "    }\n",
       "\n",
       "    .dataframe tbody tr th {\n",
       "        vertical-align: top;\n",
       "    }\n",
       "\n",
       "    .dataframe thead th {\n",
       "        text-align: right;\n",
       "    }\n",
       "</style>\n",
       "<table border=\"1\" class=\"dataframe\">\n",
       "  <thead>\n",
       "    <tr style=\"text-align: right;\">\n",
       "      <th></th>\n",
       "      <th>Pregnancies</th>\n",
       "      <th>Glucose</th>\n",
       "      <th>BloodPressure</th>\n",
       "      <th>SkinThickness</th>\n",
       "      <th>Insulin</th>\n",
       "      <th>BMI</th>\n",
       "      <th>DiabetesPedigreeFunction</th>\n",
       "      <th>Age</th>\n",
       "      <th>Outcome</th>\n",
       "    </tr>\n",
       "  </thead>\n",
       "  <tbody>\n",
       "    <tr>\n",
       "      <th>0</th>\n",
       "      <td>6</td>\n",
       "      <td>148</td>\n",
       "      <td>72</td>\n",
       "      <td>35</td>\n",
       "      <td>0</td>\n",
       "      <td>33.6</td>\n",
       "      <td>0.627</td>\n",
       "      <td>50</td>\n",
       "      <td>1</td>\n",
       "    </tr>\n",
       "    <tr>\n",
       "      <th>1</th>\n",
       "      <td>1</td>\n",
       "      <td>85</td>\n",
       "      <td>66</td>\n",
       "      <td>29</td>\n",
       "      <td>0</td>\n",
       "      <td>26.6</td>\n",
       "      <td>0.351</td>\n",
       "      <td>31</td>\n",
       "      <td>0</td>\n",
       "    </tr>\n",
       "    <tr>\n",
       "      <th>2</th>\n",
       "      <td>8</td>\n",
       "      <td>183</td>\n",
       "      <td>64</td>\n",
       "      <td>0</td>\n",
       "      <td>0</td>\n",
       "      <td>23.3</td>\n",
       "      <td>0.672</td>\n",
       "      <td>32</td>\n",
       "      <td>1</td>\n",
       "    </tr>\n",
       "    <tr>\n",
       "      <th>3</th>\n",
       "      <td>1</td>\n",
       "      <td>89</td>\n",
       "      <td>66</td>\n",
       "      <td>23</td>\n",
       "      <td>94</td>\n",
       "      <td>28.1</td>\n",
       "      <td>0.167</td>\n",
       "      <td>21</td>\n",
       "      <td>0</td>\n",
       "    </tr>\n",
       "    <tr>\n",
       "      <th>4</th>\n",
       "      <td>0</td>\n",
       "      <td>137</td>\n",
       "      <td>40</td>\n",
       "      <td>35</td>\n",
       "      <td>168</td>\n",
       "      <td>43.1</td>\n",
       "      <td>2.288</td>\n",
       "      <td>33</td>\n",
       "      <td>1</td>\n",
       "    </tr>\n",
       "    <tr>\n",
       "      <th>5</th>\n",
       "      <td>5</td>\n",
       "      <td>116</td>\n",
       "      <td>74</td>\n",
       "      <td>0</td>\n",
       "      <td>0</td>\n",
       "      <td>25.6</td>\n",
       "      <td>0.201</td>\n",
       "      <td>30</td>\n",
       "      <td>0</td>\n",
       "    </tr>\n",
       "    <tr>\n",
       "      <th>6</th>\n",
       "      <td>3</td>\n",
       "      <td>78</td>\n",
       "      <td>50</td>\n",
       "      <td>32</td>\n",
       "      <td>88</td>\n",
       "      <td>31.0</td>\n",
       "      <td>0.248</td>\n",
       "      <td>26</td>\n",
       "      <td>1</td>\n",
       "    </tr>\n",
       "    <tr>\n",
       "      <th>7</th>\n",
       "      <td>10</td>\n",
       "      <td>115</td>\n",
       "      <td>0</td>\n",
       "      <td>0</td>\n",
       "      <td>0</td>\n",
       "      <td>35.3</td>\n",
       "      <td>0.134</td>\n",
       "      <td>29</td>\n",
       "      <td>0</td>\n",
       "    </tr>\n",
       "    <tr>\n",
       "      <th>8</th>\n",
       "      <td>2</td>\n",
       "      <td>197</td>\n",
       "      <td>70</td>\n",
       "      <td>45</td>\n",
       "      <td>543</td>\n",
       "      <td>30.5</td>\n",
       "      <td>0.158</td>\n",
       "      <td>53</td>\n",
       "      <td>1</td>\n",
       "    </tr>\n",
       "    <tr>\n",
       "      <th>9</th>\n",
       "      <td>8</td>\n",
       "      <td>125</td>\n",
       "      <td>96</td>\n",
       "      <td>0</td>\n",
       "      <td>0</td>\n",
       "      <td>0.0</td>\n",
       "      <td>0.232</td>\n",
       "      <td>54</td>\n",
       "      <td>1</td>\n",
       "    </tr>\n",
       "  </tbody>\n",
       "</table>\n",
       "</div>"
      ],
      "text/plain": [
       "   Pregnancies  Glucose  BloodPressure  SkinThickness  Insulin   BMI  \\\n",
       "0            6      148             72             35        0  33.6   \n",
       "1            1       85             66             29        0  26.6   \n",
       "2            8      183             64              0        0  23.3   \n",
       "3            1       89             66             23       94  28.1   \n",
       "4            0      137             40             35      168  43.1   \n",
       "5            5      116             74              0        0  25.6   \n",
       "6            3       78             50             32       88  31.0   \n",
       "7           10      115              0              0        0  35.3   \n",
       "8            2      197             70             45      543  30.5   \n",
       "9            8      125             96              0        0   0.0   \n",
       "\n",
       "   DiabetesPedigreeFunction  Age  Outcome  \n",
       "0                     0.627   50        1  \n",
       "1                     0.351   31        0  \n",
       "2                     0.672   32        1  \n",
       "3                     0.167   21        0  \n",
       "4                     2.288   33        1  \n",
       "5                     0.201   30        0  \n",
       "6                     0.248   26        1  \n",
       "7                     0.134   29        0  \n",
       "8                     0.158   53        1  \n",
       "9                     0.232   54        1  "
      ]
     },
     "execution_count": 6,
     "metadata": {},
     "output_type": "execute_result"
    }
   ],
   "source": [
    "df.head(10)"
   ]
  },
  {
   "cell_type": "code",
   "execution_count": 7,
   "metadata": {},
   "outputs": [
    {
     "name": "stdout",
     "output_type": "stream",
     "text": [
      "<class 'pandas.core.frame.DataFrame'>\n",
      "RangeIndex: 768 entries, 0 to 767\n",
      "Data columns (total 9 columns):\n",
      " #   Column                    Non-Null Count  Dtype  \n",
      "---  ------                    --------------  -----  \n",
      " 0   Pregnancies               768 non-null    int64  \n",
      " 1   Glucose                   768 non-null    int64  \n",
      " 2   BloodPressure             768 non-null    int64  \n",
      " 3   SkinThickness             768 non-null    int64  \n",
      " 4   Insulin                   768 non-null    int64  \n",
      " 5   BMI                       768 non-null    float64\n",
      " 6   DiabetesPedigreeFunction  768 non-null    float64\n",
      " 7   Age                       768 non-null    int64  \n",
      " 8   Outcome                   768 non-null    int64  \n",
      "dtypes: float64(2), int64(7)\n",
      "memory usage: 54.1 KB\n"
     ]
    }
   ],
   "source": [
    "df.info()"
   ]
  },
  {
   "cell_type": "code",
   "execution_count": 8,
   "metadata": {},
   "outputs": [
    {
     "data": {
      "text/plain": [
       "Pregnancies                 0\n",
       "Glucose                     0\n",
       "BloodPressure               0\n",
       "SkinThickness               0\n",
       "Insulin                     0\n",
       "BMI                         0\n",
       "DiabetesPedigreeFunction    0\n",
       "Age                         0\n",
       "Outcome                     0\n",
       "dtype: int64"
      ]
     },
     "execution_count": 8,
     "metadata": {},
     "output_type": "execute_result"
    }
   ],
   "source": [
    "df.isna().sum()"
   ]
  },
  {
   "cell_type": "code",
   "execution_count": 9,
   "metadata": {},
   "outputs": [
    {
     "name": "stdout",
     "output_type": "stream",
     "text": [
      "Pregnancies                 111\n",
      "Glucose                       5\n",
      "BloodPressure                35\n",
      "SkinThickness               227\n",
      "Insulin                     374\n",
      "BMI                          11\n",
      "DiabetesPedigreeFunction      0\n",
      "Age                           0\n",
      "Outcome                     500\n",
      "dtype: int64\n"
     ]
    }
   ],
   "source": [
    "zero_count=(df==0).sum()\n",
    "print(zero_count)"
   ]
  },
  {
   "cell_type": "code",
   "execution_count": 10,
   "metadata": {},
   "outputs": [
    {
     "data": {
      "text/html": [
       "<div>\n",
       "<style scoped>\n",
       "    .dataframe tbody tr th:only-of-type {\n",
       "        vertical-align: middle;\n",
       "    }\n",
       "\n",
       "    .dataframe tbody tr th {\n",
       "        vertical-align: top;\n",
       "    }\n",
       "\n",
       "    .dataframe thead th {\n",
       "        text-align: right;\n",
       "    }\n",
       "</style>\n",
       "<table border=\"1\" class=\"dataframe\">\n",
       "  <thead>\n",
       "    <tr style=\"text-align: right;\">\n",
       "      <th></th>\n",
       "      <th>Pregnancies</th>\n",
       "      <th>Glucose</th>\n",
       "      <th>BloodPressure</th>\n",
       "      <th>SkinThickness</th>\n",
       "      <th>Insulin</th>\n",
       "      <th>BMI</th>\n",
       "      <th>DiabetesPedigreeFunction</th>\n",
       "      <th>Age</th>\n",
       "      <th>Outcome</th>\n",
       "    </tr>\n",
       "  </thead>\n",
       "  <tbody>\n",
       "    <tr>\n",
       "      <th>count</th>\n",
       "      <td>768.000000</td>\n",
       "      <td>768.000000</td>\n",
       "      <td>768.000000</td>\n",
       "      <td>768.000000</td>\n",
       "      <td>768.000000</td>\n",
       "      <td>768.000000</td>\n",
       "      <td>768.000000</td>\n",
       "      <td>768.000000</td>\n",
       "      <td>768.000000</td>\n",
       "    </tr>\n",
       "    <tr>\n",
       "      <th>mean</th>\n",
       "      <td>3.845052</td>\n",
       "      <td>120.894531</td>\n",
       "      <td>69.105469</td>\n",
       "      <td>20.536458</td>\n",
       "      <td>79.799479</td>\n",
       "      <td>31.992578</td>\n",
       "      <td>0.471876</td>\n",
       "      <td>33.240885</td>\n",
       "      <td>0.348958</td>\n",
       "    </tr>\n",
       "    <tr>\n",
       "      <th>std</th>\n",
       "      <td>3.369578</td>\n",
       "      <td>31.972618</td>\n",
       "      <td>19.355807</td>\n",
       "      <td>15.952218</td>\n",
       "      <td>115.244002</td>\n",
       "      <td>7.884160</td>\n",
       "      <td>0.331329</td>\n",
       "      <td>11.760232</td>\n",
       "      <td>0.476951</td>\n",
       "    </tr>\n",
       "    <tr>\n",
       "      <th>min</th>\n",
       "      <td>0.000000</td>\n",
       "      <td>0.000000</td>\n",
       "      <td>0.000000</td>\n",
       "      <td>0.000000</td>\n",
       "      <td>0.000000</td>\n",
       "      <td>0.000000</td>\n",
       "      <td>0.078000</td>\n",
       "      <td>21.000000</td>\n",
       "      <td>0.000000</td>\n",
       "    </tr>\n",
       "    <tr>\n",
       "      <th>25%</th>\n",
       "      <td>1.000000</td>\n",
       "      <td>99.000000</td>\n",
       "      <td>62.000000</td>\n",
       "      <td>0.000000</td>\n",
       "      <td>0.000000</td>\n",
       "      <td>27.300000</td>\n",
       "      <td>0.243750</td>\n",
       "      <td>24.000000</td>\n",
       "      <td>0.000000</td>\n",
       "    </tr>\n",
       "    <tr>\n",
       "      <th>50%</th>\n",
       "      <td>3.000000</td>\n",
       "      <td>117.000000</td>\n",
       "      <td>72.000000</td>\n",
       "      <td>23.000000</td>\n",
       "      <td>30.500000</td>\n",
       "      <td>32.000000</td>\n",
       "      <td>0.372500</td>\n",
       "      <td>29.000000</td>\n",
       "      <td>0.000000</td>\n",
       "    </tr>\n",
       "    <tr>\n",
       "      <th>75%</th>\n",
       "      <td>6.000000</td>\n",
       "      <td>140.250000</td>\n",
       "      <td>80.000000</td>\n",
       "      <td>32.000000</td>\n",
       "      <td>127.250000</td>\n",
       "      <td>36.600000</td>\n",
       "      <td>0.626250</td>\n",
       "      <td>41.000000</td>\n",
       "      <td>1.000000</td>\n",
       "    </tr>\n",
       "    <tr>\n",
       "      <th>max</th>\n",
       "      <td>17.000000</td>\n",
       "      <td>199.000000</td>\n",
       "      <td>122.000000</td>\n",
       "      <td>99.000000</td>\n",
       "      <td>846.000000</td>\n",
       "      <td>67.100000</td>\n",
       "      <td>2.420000</td>\n",
       "      <td>81.000000</td>\n",
       "      <td>1.000000</td>\n",
       "    </tr>\n",
       "  </tbody>\n",
       "</table>\n",
       "</div>"
      ],
      "text/plain": [
       "       Pregnancies     Glucose  BloodPressure  SkinThickness     Insulin  \\\n",
       "count   768.000000  768.000000     768.000000     768.000000  768.000000   \n",
       "mean      3.845052  120.894531      69.105469      20.536458   79.799479   \n",
       "std       3.369578   31.972618      19.355807      15.952218  115.244002   \n",
       "min       0.000000    0.000000       0.000000       0.000000    0.000000   \n",
       "25%       1.000000   99.000000      62.000000       0.000000    0.000000   \n",
       "50%       3.000000  117.000000      72.000000      23.000000   30.500000   \n",
       "75%       6.000000  140.250000      80.000000      32.000000  127.250000   \n",
       "max      17.000000  199.000000     122.000000      99.000000  846.000000   \n",
       "\n",
       "              BMI  DiabetesPedigreeFunction         Age     Outcome  \n",
       "count  768.000000                768.000000  768.000000  768.000000  \n",
       "mean    31.992578                  0.471876   33.240885    0.348958  \n",
       "std      7.884160                  0.331329   11.760232    0.476951  \n",
       "min      0.000000                  0.078000   21.000000    0.000000  \n",
       "25%     27.300000                  0.243750   24.000000    0.000000  \n",
       "50%     32.000000                  0.372500   29.000000    0.000000  \n",
       "75%     36.600000                  0.626250   41.000000    1.000000  \n",
       "max     67.100000                  2.420000   81.000000    1.000000  "
      ]
     },
     "execution_count": 10,
     "metadata": {},
     "output_type": "execute_result"
    }
   ],
   "source": [
    "df.describe()"
   ]
  },
  {
   "cell_type": "code",
   "execution_count": 11,
   "metadata": {},
   "outputs": [
    {
     "data": {
      "application/vnd.jupyter.widget-view+json": {
       "model_id": "32612d69aa0546e4b4c206559f90ca6c",
       "version_major": 2,
       "version_minor": 0
      },
      "text/plain": [
       "Summarize dataset:   0%|          | 0/5 [00:00<?, ?it/s]"
      ]
     },
     "metadata": {},
     "output_type": "display_data"
    },
    {
     "data": {
      "application/vnd.jupyter.widget-view+json": {
       "model_id": "56213f094caa4f28a84bb40397320e9b",
       "version_major": 2,
       "version_minor": 0
      },
      "text/plain": [
       "Generate report structure:   0%|          | 0/1 [00:00<?, ?it/s]"
      ]
     },
     "metadata": {},
     "output_type": "display_data"
    },
    {
     "data": {
      "application/vnd.jupyter.widget-view+json": {
       "model_id": "f5764604d5ae42cd807282ffbf1e10b2",
       "version_major": 2,
       "version_minor": 0
      },
      "text/plain": [
       "Render HTML:   0%|          | 0/1 [00:00<?, ?it/s]"
      ]
     },
     "metadata": {},
     "output_type": "display_data"
    },
    {
     "name": "stderr",
     "output_type": "stream",
     "text": [
      "c:\\Users\\nabyp\\OneDrive\\Bureau\\Analyse de données\\PYTHON DATA\\sklearn-env\\Lib\\site-packages\\ydata_profiling\\profile_report.py:379: UserWarning: Extension  not supported. For now we assume .html was intended. To remove this warning, please use .html or .json.\n",
      "  warnings.warn(\n"
     ]
    },
    {
     "data": {
      "application/vnd.jupyter.widget-view+json": {
       "model_id": "1d08468b99c24e168928a50127b48726",
       "version_major": 2,
       "version_minor": 0
      },
      "text/plain": [
       "Export report to file:   0%|          | 0/1 [00:00<?, ?it/s]"
      ]
     },
     "metadata": {},
     "output_type": "display_data"
    }
   ],
   "source": [
    "profile=ProfileReport(df,title='Rappot diabetes')\n",
    "profile.to_file('Rappot diabetes')"
   ]
  },
  {
   "cell_type": "markdown",
   "metadata": {},
   "source": [
    "#       OBSERVATIONS SUR LES DONNEES"
   ]
  },
  {
   "cell_type": "markdown",
   "metadata": {},
   "source": [
    "#  APERCU GENERAL "
   ]
  },
  {
   "cell_type": "markdown",
   "metadata": {},
   "source": [
    "A l'issue de l'exploration des données nous pouvons constater que notre dataset contient 768 enregistrements(lignes) et compte 9 variables (colonnes).La majorité des variables sont numeriques :\n",
    "1 catégoriques et  8 numériques.\n",
    "On remarque cependant que notre dataset est propre c'est à dire qu'il n'y a pas de lignes en doubles encore moins de données manquantes.\n",
    "Aussi on se rend compte que notre dataset  ne consomme pas trop en memoire , il occupe 54.1KB ,soit 72.2B par enregistrement."
   ]
  },
  {
   "cell_type": "markdown",
   "metadata": {},
   "source": [
    "#   Observations sur les variables "
   ]
  },
  {
   "cell_type": "markdown",
   "metadata": {},
   "source": [
    "#   -PREGNANCIES"
   ]
  },
  {
   "cell_type": "markdown",
   "metadata": {},
   "source": [
    "Type de donnée : Nombre réel (ℝ)\n",
    "\n",
    "-Corrélation élevée : Indique que la variable \"Pregnancies\" pourrait avoir une relation significative avec une ou plusieurs autres variables du dataset.\n",
    "\n",
    "-Valeurs nulles : 0 (0.0%) Il n'y a pas de valeurs manquantes pour cette variable, ce qui est idéal pour les analyses.\n",
    "\n",
    "-Moyenne : 3.845 .En moyenne, les participantes de l'étude ont eu environ 3,8 grossesses.\n",
    "\n",
    "Minimum : 0 Certaines participantes n'ont eu aucune grossesse, ce qui est indiqué par les valeurs minimales de zéro.\n",
    "\n",
    "Maximum : 17 La valeur maximale de grossesses est de 17, ce qui peut représenter des cas extrêmes ou particuliers.\n",
    "\n",
    "Zeros : 111 (14.5%). Un pourcentage significatif de 14.5% des participants n'ont pas eu de grossesse. Cela est important à noter car cela peut influencer les analyses statistiques.\n",
    "\n",
    "Valeurs négatives : Aucune valeur négative, ce qui est correct pour le nombre de grossesses.\n",
    "\n",
    "Conclusion :\n",
    "\n",
    "La variable \"Pregnancies\" présente des caractéristiques intéressantes à prendre en compte :\n",
    "\n",
    "Distribution des valeurs : Une distribution variée avec des valeurs allant de 0 à 17 grossesses.\n",
    "\n",
    "Corrélation élevée : Indique des relations significatives avec d'autres variables, ce qui peut être exploré davantage."
   ]
  },
  {
   "cell_type": "markdown",
   "metadata": {},
   "source": [
    "#   -Glucose"
   ]
  },
  {
   "cell_type": "markdown",
   "metadata": {},
   "source": [
    "-Type de donnée : Nombre réel (ℝ)\n",
    "\n",
    "-Valeurs distinctes : 136 (17.7%)\n",
    "Il y a 136 valeurs distinctes pour le glucose dans notre dataset, ce qui montre une bonne variabilité des données.\n",
    "\n",
    "-Moyenne : La moyenne du niveau de glucose est d'environ 120.89, ce qui peut être utile pour comprendre la distribution générale des niveaux de glucose dans notre dataset  et ainsi déterminer les niveaux de glucose normaux.\n",
    "\n",
    "-Minimum :La présence de valeurs égales à zéro 5 (0.7%) ,pourrait être problématique, car les niveaux de glucose de zéro ne sont pas réalistes et pourraient indiquer des valeurs manquantes ou des erreurs de saisie de données.\n",
    "\n",
    "-Maximum : Le niveau de glucose le plus élevé est de 199, ce qui peut indiquer des cas potentiels de diabète ou d'hyperglycémie.\n",
    "\n",
    "Conclusion:\n",
    "\n",
    "La variable glucose dans est majoritairement propre et bien représentée. Les points principaux à noter sont :\n",
    "\n",
    "Valeurs zéro : Vérifiez les valeurs zéro, car elles ne sont pas réalistes pour les niveaux de glucose et pourraient indiquer des données manquantes ou des erreurs.\n",
    "\n",
    "Distribution générale : La variabilité et la moyenne des valeurs de glucose semblent raisonnables et peuvent fournir une bonne base pour des analyses supplémentaires."
   ]
  },
  {
   "cell_type": "markdown",
   "metadata": {},
   "source": [
    "#   -BMI (IMC)"
   ]
  },
  {
   "cell_type": "markdown",
   "metadata": {},
   "source": [
    "BMI (Body Mass Index)\n",
    "\n",
    "Moyenne : 31.99\n",
    "\n",
    "Minimum : 0\n",
    "\n",
    "Maximum : 67.1\n",
    "\n",
    "Zeros : 1.4% (11 occurrences)\n",
    "\n",
    "La moyenne de BMI à 31.99 indique que de nombreux individus de l'échantillon sont en surpoids ou obèses, selon les classifications standards.\n",
    "\n",
    "La présence de valeurs zéro (1.4%) est faible mais notable, et pourrait également représenter des erreurs ou des données manquantes.\n",
    "\n",
    "La distribution des valeurs BMI est large, avec un minimum de 0 et un maximum de 67.1, couvrant un large éventail d'IMC."
   ]
  },
  {
   "cell_type": "markdown",
   "metadata": {},
   "source": [
    "#   -BloodPressure"
   ]
  },
  {
   "cell_type": "markdown",
   "metadata": {},
   "source": [
    "\n",
    "Type de donnée : Nombre réel (ℝ)\n",
    "\n",
    "Distinct : 47 (6.1%) ,\n",
    "\n",
    "Valeurs manquantes : 0 (0.0%)\n",
    "\n",
    "Valeurs infinies : 0 (0.0%)\n",
    "\n",
    "Moyenne : 69.11\n",
    "\n",
    "Minimum : 0\n",
    "\n",
    "Maximum : 122\n",
    "\n",
    "Zeros : 35 (4.6%)\n",
    "\n",
    "La moyenne est egale à 69.11 ce qui indique que la moyenne de l'echatillon on une pression sanguine proche de la  normale (75-80)\n",
    "\n",
    "La présence de zéros dans BloodPressure pourrait indiquer des valeurs manquantes ou des erreurs de saisie. La distribution est principalement correcte, mais ces zéros doivent être examinés."
   ]
  },
  {
   "cell_type": "markdown",
   "metadata": {},
   "source": [
    "#   -SkinThickness"
   ]
  },
  {
   "cell_type": "markdown",
   "metadata": {},
   "source": [
    "Type de donnée : Nombre réel (ℝ)\n",
    "\n",
    "Distinct : 51 (6.6%)\n",
    "\n",
    "Valeurs manquantes : 0 (0.0%)\n",
    "\n",
    "Valeurs infinies : 0 (0.0%)\n",
    "\n",
    "Moyenne : 20.54\n",
    "\n",
    "Minimum : 0\n",
    "\n",
    "Maximum : 99\n",
    "\n",
    "Zeros : 227 (29.6%)\n",
    "\n",
    "Un pourcentage élevé de zéros dans SkinThickness suggère que cette variable pourrait avoir de nombreuses valeurs manquantes représentées par zéro. Il est crucial de déterminer comment gérer ces valeurs."
   ]
  },
  {
   "cell_type": "markdown",
   "metadata": {},
   "source": [
    "#   -Insulin"
   ]
  },
  {
   "cell_type": "markdown",
   "metadata": {},
   "source": [
    "\n",
    "Type de donnée : Nombre réel (ℝ)\n",
    "\n",
    "Distinct : 186 (24.2%)\n",
    "\n",
    "Valeurs manquantes : 0 (0.0%)\n",
    "\n",
    "Valeurs infinies : 0 (0.0%)\n",
    "\n",
    "Moyenne : 79.80\n",
    "\n",
    "Minimum : 0\n",
    "\n",
    "Maximum : 846\n",
    "\n",
    "Zeros : 374 (48.7%)\n",
    "\n",
    "Près de la moitié des valeurs pour Insulin sont zéro, ce qui indique probablement des valeurs manquantes. Cela mérite une attention particulière pour décider comment imputer ces données."
   ]
  },
  {
   "cell_type": "markdown",
   "metadata": {},
   "source": [
    "#   -DiabetesPedigreeFunction"
   ]
  },
  {
   "cell_type": "markdown",
   "metadata": {},
   "source": [
    "Type de donnée : Nombre réel (ℝ)\n",
    "\n",
    "Distinct : 517 (67.3%)\n",
    "\n",
    "Valeurs manquantes : 0 (0.0%)\n",
    "\n",
    "Valeurs infinies : 0 (0.0%)\n",
    "\n",
    "Moyenne : 0.47\n",
    "\n",
    "Minimum : 0.078\n",
    "\n",
    "Maximum : 2.42\n",
    "\n",
    "Zeros : 0 (0.0%)\n",
    "\n",
    "Aucune valeur zéro ou manquante pour DiabetesPedigreeFunction, on note une variabilité remarquable sur la distribution ce qui est idéal pour l'analyse.\n"
   ]
  },
  {
   "cell_type": "markdown",
   "metadata": {},
   "source": [
    "#   -Age"
   ]
  },
  {
   "cell_type": "markdown",
   "metadata": {},
   "source": [
    "Type de donnée : Nombre réel (ℝ)\n",
    "\n",
    "Distinct : 52 (6.8%)\n",
    "\n",
    "Valeurs manquantes : 0 (0.0%)\n",
    "\n",
    "Valeurs infinies : 0 (0.0%)\n",
    "\n",
    "Moyenne : 33.24\n",
    "\n",
    "Minimum : 21\n",
    "\n",
    "Maximum : 81\n",
    "\n",
    "Zeros : 0 (0.0%)\n",
    "\n",
    "Les valeurs d'âge sont complètes et correctes, sans valeurs manquantes ou anormales."
   ]
  },
  {
   "cell_type": "markdown",
   "metadata": {},
   "source": [
    "#   -Outcome"
   ]
  },
  {
   "cell_type": "markdown",
   "metadata": {},
   "source": [
    "\n",
    "Type de donnée : Catégorielle\n",
    "\n",
    "Distinct : 2 (0.3%)\n",
    "\n",
    "Valeurs manquantes : 0 (0.0%)\n",
    "\n",
    "La variable Outcome est binaire et complète, ce qui est idéal pour une variable cible dans un modèle de classification.\n",
    "\n"
   ]
  },
  {
   "cell_type": "markdown",
   "metadata": {},
   "source": [
    "#   -Interprétation des corrélations"
   ]
  },
  {
   "cell_type": "markdown",
   "metadata": {},
   "source": [
    "-Age :\n",
    "\n",
    "Corrélation élevée avec Pregnancies (0.607) : Les femmes plus âgées ont tendance à avoir eu plus de grossesses, ce qui est une relation attendue.\n",
    "\n",
    "Corrélation modérée avec BloodPressure (0.351) : Cela pourrait indiquer que la pression artérielle augmente avec l'âge.\n",
    "\n",
    "-BMI :\n",
    "\n",
    "Corrélation modérée avec SkinThickness (0.444) : Cela peut s'expliquer par le fait que les personnes avec un IMC élevé peuvent avoir une épaisseur de peau plus importante.\n",
    "\n",
    "Corrélation modérée avec Outcome (0.317) : Une corrélation positive indique qu'un IMC plus élevé pourrait être associé à un risque accru de diabète.\n",
    "\n",
    "-BloodPressure :\n",
    "\n",
    "Corrélation modérée avec Age (0.351) : Comme mentionné plus haut, la pression artérielle semble augmenter avec l'âge.\n",
    "\n",
    "Corrélation modérée avec BMI (0.293) : Cela suggère que l'IMC et la pression artérielle peuvent être liés.\n",
    "\n",
    "-Glucose :\n",
    "\n",
    "Corrélation élevée avec Outcome (0.487) : Les niveaux de glucose élevés sont fortement associés à un diagnostic de diabète.\n",
    "\n",
    "Corrélation modérée avec Age (0.285) : Indique que les niveaux de glucose augmentent légèrement avec l'âge.\n",
    "\n",
    "-Insulin :\n",
    "\n",
    "Corrélation élevée avec SkinThickness (0.541) : Les niveaux d'insuline et l'épaisseur de la peau semblent être liés, ce qui pourrait être exploré davantage.\n",
    "\n",
    "Corrélation modérée avec Glucose (0.213) : Une certaine relation entre les niveaux de glucose et d'insuline est observée, ce qui est attendu.\n",
    "\n",
    "-Outcome (Résultat du test de diabète) :\n",
    "\n",
    "Corrélation élevée avec Glucose (0.487) : Comme mentionné plus haut, les niveaux de glucose élevés sont fortement associés à un diagnostic de diabète.\n",
    "\n",
    "Corrélation modérée avec BMI (0.317) : Indique qu'un IMC plus élevé est associé à un risque accru de diabète.\n",
    "\n",
    "-Pregnancies :\n",
    "\n",
    "Corrélation élevée avec Age (0.607) : Déjà discuté, plus les femmes sont âgées, plus elles ont tendance à avoir eu des grossesses.\n",
    "\n",
    "Corrélation modérée avec Outcome (0.235) : Indique une légère relation où le nombre de grossesses pourrait influencer le risque de diabète.\n",
    "\n",
    "Conclusion\n",
    "\n",
    "Les corrélations entre ces variables  donnent un aperçu des relations potentielles et des associations dans notre dataset. Les corrélations fortes indiquent des relations intéressantes qui peuvent être explorées plus en détail, tandis que les corrélations faibles peuvent suggérer des relations moins significatives."
   ]
  },
  {
   "cell_type": "markdown",
   "metadata": {},
   "source": [
    "#   -Conclusion"
   ]
  },
  {
   "cell_type": "markdown",
   "metadata": {},
   "source": [
    "Le  dataset est globalement bien structuré, avec certaines variables nécessitant une attention particulière en raison des valeurs zéro (pouvant indiquer des valeurs manquantes). Les variables comme Insulin, SkinThickness, et BloodPressure présentent des valeurs zéro significatives qui doivent être analysées et traitées pour garantir des analyses précises.\n",
    "\n"
   ]
  },
  {
   "cell_type": "markdown",
   "metadata": {},
   "source": []
  }
 ],
 "metadata": {
  "kernelspec": {
   "display_name": "sklearn-env",
   "language": "python",
   "name": "python3"
  },
  "language_info": {
   "codemirror_mode": {
    "name": "ipython",
    "version": 3
   },
   "file_extension": ".py",
   "mimetype": "text/x-python",
   "name": "python",
   "nbconvert_exporter": "python",
   "pygments_lexer": "ipython3",
   "version": "3.12.8"
  }
 },
 "nbformat": 4,
 "nbformat_minor": 2
}
